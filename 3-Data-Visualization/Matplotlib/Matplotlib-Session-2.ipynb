{
 "cells": [
  {
   "cell_type": "code",
   "execution_count": 2,
   "metadata": {},
   "outputs": [],
   "source": [
    "import matplotlib as plt\n",
    "%matplotlib inline\n",
    "import pandas as pd"
   ]
  },
  {
   "cell_type": "markdown",
   "metadata": {},
   "source": [
    "### Topics to Today\n",
    "* plotting time series data\n",
    "* story telling of different data using pandas and matplotlib"
   ]
  },
  {
   "cell_type": "code",
   "execution_count": 3,
   "metadata": {},
   "outputs": [
    {
     "name": "stderr",
     "output_type": "stream",
     "text": [
      "C:\\ProgramData\\Anaconda3\\lib\\site-packages\\IPython\\core\\interactiveshell.py:3058: DtypeWarning: Columns (4,24,35,36,37,40,42,43,53,54,55,56,57,58,59,60,61,62,63,64,65,66,68,69,70,71) have mixed types. Specify dtype option on import or set low_memory=False.\n",
      "  interactivity=interactivity, compiler=compiler, result=result)\n"
     ]
    }
   ],
   "source": [
    "payments_data = pd.read_csv('https://raw.githubusercontent.com/edyoda/data-science-complete-tutorial/master/Data/payments-data.csv')"
   ]
  },
  {
   "cell_type": "code",
   "execution_count": 6,
   "metadata": {},
   "outputs": [
    {
     "data": {
      "text/plain": [
       "0       2016-02-12\n",
       "1       2016-02-13\n",
       "2       2016-02-13\n",
       "3       2016-01-26\n",
       "4       2016-01-26\n",
       "           ...    \n",
       "29994   2016-07-13\n",
       "29995   2016-07-13\n",
       "29996   2016-08-04\n",
       "29997   2016-08-04\n",
       "29998   2016-08-04\n",
       "Name: Date_of_Payment, Length: 29999, dtype: datetime64[ns]"
      ]
     },
     "execution_count": 6,
     "metadata": {},
     "output_type": "execute_result"
    }
   ],
   "source": [
    "payments_data.Date_of_Payment = pd.to_datetime(payments_data.Date_of_Payment)\n",
    "payments_data.Date_of_Payment"
   ]
  },
  {
   "cell_type": "code",
   "execution_count": 7,
   "metadata": {},
   "outputs": [
    {
     "name": "stdout",
     "output_type": "stream",
     "text": [
      "<class 'pandas.core.frame.DataFrame'>\n",
      "RangeIndex: 29999 entries, 0 to 29998\n",
      "Data columns (total 75 columns):\n",
      "Change_Type                                                          29999 non-null object\n",
      "Covered_Recipient_Type                                               29999 non-null object\n",
      "Teaching_Hospital_CCN                                                79 non-null float64\n",
      "Teaching_Hospital_ID                                                 79 non-null float64\n",
      "Teaching_Hospital_Name                                               79 non-null object\n",
      "Physician_Profile_ID                                                 29920 non-null float64\n",
      "Physician_First_Name                                                 29920 non-null object\n",
      "Physician_Middle_Name                                                22778 non-null object\n",
      "Physician_Last_Name                                                  29918 non-null object\n",
      "Physician_Name_Suffix                                                1027 non-null object\n",
      "Recipient_Primary_Business_Street_Address_Line1                      29999 non-null object\n",
      "Recipient_Primary_Business_Street_Address_Line2                      14265 non-null object\n",
      "Recipient_City                                                       29999 non-null object\n",
      "Recipient_State                                                      29999 non-null object\n",
      "Recipient_Zip_Code                                                   29999 non-null object\n",
      "Recipient_Country                                                    29999 non-null object\n",
      "Recipient_Province                                                   0 non-null float64\n",
      "Recipient_Postal_Code                                                0 non-null float64\n",
      "Physician_Primary_Type                                               29920 non-null object\n",
      "Physician_Specialty                                                  29902 non-null object\n",
      "Physician_License_State_code1                                        29920 non-null object\n",
      "Physician_License_State_code2                                        2648 non-null object\n",
      "Physician_License_State_code3                                        437 non-null object\n",
      "Physician_License_State_code4                                        74 non-null object\n",
      "Physician_License_State_code5                                        13 non-null object\n",
      "Submitting_Applicable_Manufacturer_or_Applicable_GPO_Name            29999 non-null object\n",
      "Applicable_Manufacturer_or_Applicable_GPO_Making_Payment_ID          29999 non-null int64\n",
      "Applicable_Manufacturer_or_Applicable_GPO_Making_Payment_Name        29999 non-null object\n",
      "Applicable_Manufacturer_or_Applicable_GPO_Making_Payment_State       29995 non-null object\n",
      "Applicable_Manufacturer_or_Applicable_GPO_Making_Payment_Country     29999 non-null object\n",
      "Total_Amount_of_Payment_USDollars                                    29999 non-null float64\n",
      "Date_of_Payment                                                      29999 non-null datetime64[ns]\n",
      "Number_of_Payments_Included_in_Total_Amount                          29999 non-null int64\n",
      "Form_of_Payment_or_Transfer_of_Value                                 29999 non-null object\n",
      "Nature_of_Payment_or_Transfer_of_Value                               29999 non-null object\n",
      "City_of_Travel                                                       446 non-null object\n",
      "State_of_Travel                                                      423 non-null object\n",
      "Country_of_Travel                                                    446 non-null object\n",
      "Physician_Ownership_Indicator                                        29920 non-null object\n",
      "Third_Party_Payment_Recipient_Indicator                              29999 non-null object\n",
      "Name_of_Third_Party_Entity_Receiving_Payment_or_Transfer_of_Value    34 non-null object\n",
      "Charity_Indicator                                                    27076 non-null object\n",
      "Third_Party_Equals_Covered_Recipient_Indicator                       844 non-null object\n",
      "Contextual_Information                                               173 non-null object\n",
      "Delay_in_Publication_Indicator                                       29999 non-null object\n",
      "Record_ID                                                            29999 non-null int64\n",
      "Dispute_Status_for_Publication                                       29999 non-null object\n",
      "Related_Product_Indicator                                            29999 non-null object\n",
      "Covered_or_Noncovered_Indicator_1                                    29087 non-null object\n",
      "Indicate_Drug_or_Biological_or_Device_or_Medical_Supply_1            29087 non-null object\n",
      "Product_Category_or_Therapeutic_Area_1                               28989 non-null object\n",
      "Name_of_Drug_or_Biological_or_Device_or_Medical_Supply_1             28787 non-null object\n",
      "Associated_Drug_or_Biological_NDC_1                                  23162 non-null object\n",
      "Covered_or_Noncovered_Indicator_2                                    1955 non-null object\n",
      "Indicate_Drug_or_Biological_or_Device_or_Medical_Supply_2            1955 non-null object\n",
      "Product_Category_or_Therapeutic_Area_2                               1955 non-null object\n",
      "Name_of_Drug_or_Biological_or_Device_or_Medical_Supply_2             1774 non-null object\n",
      "Associated_Drug_or_Biological_NDC_2                                  29 non-null object\n",
      "Covered_or_Noncovered_Indicator_3                                    1042 non-null object\n",
      "Indicate_Drug_or_Biological_or_Device_or_Medical_Supply_3            1042 non-null object\n",
      "Product_Category_or_Therapeutic_Area_3                               1042 non-null object\n",
      "Name_of_Drug_or_Biological_or_Device_or_Medical_Supply_3             1042 non-null object\n",
      "Associated_Drug_or_Biological_NDC_3                                  29 non-null object\n",
      "Covered_or_Noncovered_Indicator_4                                    1013 non-null object\n",
      "Indicate_Drug_or_Biological_or_Device_or_Medical_Supply_4            1013 non-null object\n",
      "Product_Category_or_Therapeutic_Area_4                               1013 non-null object\n",
      "Name_of_Drug_or_Biological_or_Device_or_Medical_Supply_4             1013 non-null object\n",
      "Associated_Drug_or_Biological_NDC_4                                  0 non-null float64\n",
      "Covered_or_Noncovered_Indicator_5                                    1013 non-null object\n",
      "Indicate_Drug_or_Biological_or_Device_or_Medical_Supply_5            1013 non-null object\n",
      "Product_Category_or_Therapeutic_Area_5                               1013 non-null object\n",
      "Name_of_Drug_or_Biological_or_Device_or_Medical_Supply_5             1013 non-null object\n",
      "Associated_Drug_or_Biological_NDC_5                                  0 non-null float64\n",
      "Program_Year                                                         29999 non-null int64\n",
      "Payment_Publication_Date                                             29999 non-null object\n",
      "dtypes: datetime64[ns](1), float64(8), int64(4), object(62)\n",
      "memory usage: 17.2+ MB\n"
     ]
    }
   ],
   "source": [
    "payments_data.info()"
   ]
  },
  {
   "cell_type": "code",
   "execution_count": 10,
   "metadata": {},
   "outputs": [],
   "source": [
    "columns = payments_data.columns.tolist()"
   ]
  },
  {
   "cell_type": "code",
   "execution_count": 13,
   "metadata": {},
   "outputs": [
    {
     "data": {
      "text/plain": [
       "['Date_of_Payment']"
      ]
     },
     "execution_count": 13,
     "metadata": {},
     "output_type": "execute_result"
    }
   ],
   "source": [
    "list(filter(lambda w:w.startswith('Date'),columns ))"
   ]
  },
  {
   "cell_type": "code",
   "execution_count": 14,
   "metadata": {},
   "outputs": [
    {
     "data": {
      "text/plain": [
       "dtype('<M8[ns]')"
      ]
     },
     "execution_count": 14,
     "metadata": {},
     "output_type": "execute_result"
    }
   ],
   "source": [
    "payments_data.Date_of_Payment.dtype"
   ]
  },
  {
   "cell_type": "code",
   "execution_count": 19,
   "metadata": {},
   "outputs": [
    {
     "name": "stdout",
     "output_type": "stream",
     "text": [
      "<class 'pandas.core.frame.DataFrame'>\n",
      "RangeIndex: 29999 entries, 0 to 29998\n",
      "Data columns (total 1 columns):\n",
      "Date_of_Payment    29999 non-null datetime64[ns]\n",
      "dtypes: datetime64[ns](1)\n",
      "memory usage: 234.5 KB\n"
     ]
    }
   ],
   "source": [
    "payments_data[['Date_of_Payment']].info()"
   ]
  },
  {
   "cell_type": "code",
   "execution_count": 17,
   "metadata": {},
   "outputs": [
    {
     "data": {
      "text/plain": [
       "['Applicable_Manufacturer_or_Applicable_GPO_Making_Payment_ID',\n",
       " 'Applicable_Manufacturer_or_Applicable_GPO_Making_Payment_Name',\n",
       " 'Applicable_Manufacturer_or_Applicable_GPO_Making_Payment_State',\n",
       " 'Applicable_Manufacturer_or_Applicable_GPO_Making_Payment_Country',\n",
       " 'Total_Amount_of_Payment_USDollars',\n",
       " 'Date_of_Payment',\n",
       " 'Number_of_Payments_Included_in_Total_Amount',\n",
       " 'Form_of_Payment_or_Transfer_of_Value',\n",
       " 'Nature_of_Payment_or_Transfer_of_Value',\n",
       " 'Third_Party_Payment_Recipient_Indicator',\n",
       " 'Name_of_Third_Party_Entity_Receiving_Payment_or_Transfer_of_Value',\n",
       " 'Payment_Publication_Date']"
      ]
     },
     "execution_count": 17,
     "metadata": {},
     "output_type": "execute_result"
    }
   ],
   "source": [
    "list(filter(lambda w: 'Payment' in w, columns))"
   ]
  },
  {
   "cell_type": "code",
   "execution_count": 24,
   "metadata": {},
   "outputs": [
    {
     "data": {
      "text/plain": [
       "1          23.45\n",
       "2          32.00\n",
       "8          16.14\n",
       "96         75.60\n",
       "99         56.17\n",
       "100        51.29\n",
       "134        64.20\n",
       "135        38.51\n",
       "177       121.00\n",
       "237        64.70\n",
       "382         7.98\n",
       "387        42.50\n",
       "403        31.66\n",
       "467        60.00\n",
       "471         5.42\n",
       "521        97.00\n",
       "525         7.74\n",
       "735       136.81\n",
       "738         6.00\n",
       "739         5.12\n",
       "7528       10.51\n",
       "7565       10.51\n",
       "7566       10.51\n",
       "7567       10.51\n",
       "10090      10.77\n",
       "10484      11.34\n",
       "11206      10.32\n",
       "11207      11.04\n",
       "12135      15.60\n",
       "12499      12.05\n",
       "12536      12.05\n",
       "12537       9.90\n",
       "12959      21.45\n",
       "12960      14.33\n",
       "14443      16.30\n",
       "14480      16.30\n",
       "14481      16.30\n",
       "22046      17.54\n",
       "22699      17.09\n",
       "23344      21.98\n",
       "23633      15.86\n",
       "23835      10.44\n",
       "23836      10.44\n",
       "25723      11.35\n",
       "25724      11.34\n",
       "25740    5653.22\n",
       "Name: Total_Amount_of_Payment_USDollars, dtype: float64"
      ]
     },
     "execution_count": 24,
     "metadata": {},
     "output_type": "execute_result"
    }
   ],
   "source": [
    "payments_data[payments_data.Date_of_Payment == '2016-02-13']['Total_Amount_of_Payment_USDollars']"
   ]
  },
  {
   "cell_type": "code",
   "execution_count": 26,
   "metadata": {},
   "outputs": [],
   "source": [
    "payment_groups = payments_data.groupby(['Date_of_Payment'])['Total_Amount_of_Payment_USDollars'].sum()"
   ]
  },
  {
   "cell_type": "code",
   "execution_count": 27,
   "metadata": {},
   "outputs": [
    {
     "data": {
      "text/plain": [
       "<matplotlib.axes._subplots.AxesSubplot at 0x22ca87a9f88>"
      ]
     },
     "execution_count": 27,
     "metadata": {},
     "output_type": "execute_result"
    },
    {
     "data": {
      "image/png": "[encoded data removed]",
      "text/plain": [
       "<Figure size 432x288 with 1 Axes>"
      ]
     },
     "metadata": {
      "needs_background": "light"
     },
     "output_type": "display_data"
    }
   ],
   "source": [
    "payment_groups.plot()"
   ]
  },
  {
   "cell_type": "code",
   "execution_count": 28,
   "metadata": {},
   "outputs": [],
   "source": [
    "churn = pd.read_csv('https://raw.githubusercontent.com/edyoda/data-science-complete-tutorial/master/Data/churn.csv.txt')"
   ]
  },
  {
   "cell_type": "code",
   "execution_count": 45,
   "metadata": {},
   "outputs": [
    {
     "data": {
      "text/html": [
       "<div>\n",
       "<style scoped>\n",
       "    .dataframe tbody tr th:only-of-type {\n",
       "        vertical-align: middle;\n",
       "    }\n",
       "\n",
       "    .dataframe tbody tr th {\n",
       "        vertical-align: top;\n",
       "    }\n",
       "\n",
       "    .dataframe thead th {\n",
       "        text-align: right;\n",
       "    }\n",
       "</style>\n",
       "<table border=\"1\" class=\"dataframe\">\n",
       "  <thead>\n",
       "    <tr style=\"text-align: right;\">\n",
       "      <th></th>\n",
       "      <th>avg_dist</th>\n",
       "      <th>avg_rating_by_driver</th>\n",
       "      <th>avg_rating_of_driver</th>\n",
       "      <th>avg_surge</th>\n",
       "      <th>city</th>\n",
       "      <th>last_trip_date</th>\n",
       "      <th>phone</th>\n",
       "      <th>signup_date</th>\n",
       "      <th>surge_pct</th>\n",
       "      <th>trips_in_first_30_days</th>\n",
       "      <th>luxury_car_user</th>\n",
       "      <th>weekday_pct</th>\n",
       "    </tr>\n",
       "  </thead>\n",
       "  <tbody>\n",
       "    <tr>\n",
       "      <td>0</td>\n",
       "      <td>3.67</td>\n",
       "      <td>5.0</td>\n",
       "      <td>4.7</td>\n",
       "      <td>1.10</td>\n",
       "      <td>King's Landing</td>\n",
       "      <td>2014-06-17</td>\n",
       "      <td>iPhone</td>\n",
       "      <td>2014-01-25</td>\n",
       "      <td>15.4</td>\n",
       "      <td>4</td>\n",
       "      <td>True</td>\n",
       "      <td>46.2</td>\n",
       "    </tr>\n",
       "    <tr>\n",
       "      <td>1</td>\n",
       "      <td>8.26</td>\n",
       "      <td>5.0</td>\n",
       "      <td>5.0</td>\n",
       "      <td>1.00</td>\n",
       "      <td>Astapor</td>\n",
       "      <td>2014-05-05</td>\n",
       "      <td>Android</td>\n",
       "      <td>2014-01-29</td>\n",
       "      <td>0.0</td>\n",
       "      <td>0</td>\n",
       "      <td>False</td>\n",
       "      <td>50.0</td>\n",
       "    </tr>\n",
       "    <tr>\n",
       "      <td>2</td>\n",
       "      <td>0.77</td>\n",
       "      <td>5.0</td>\n",
       "      <td>4.3</td>\n",
       "      <td>1.00</td>\n",
       "      <td>Astapor</td>\n",
       "      <td>2014-01-07</td>\n",
       "      <td>iPhone</td>\n",
       "      <td>2014-01-06</td>\n",
       "      <td>0.0</td>\n",
       "      <td>3</td>\n",
       "      <td>False</td>\n",
       "      <td>100.0</td>\n",
       "    </tr>\n",
       "    <tr>\n",
       "      <td>3</td>\n",
       "      <td>2.36</td>\n",
       "      <td>4.9</td>\n",
       "      <td>4.6</td>\n",
       "      <td>1.14</td>\n",
       "      <td>King's Landing</td>\n",
       "      <td>2014-06-29</td>\n",
       "      <td>iPhone</td>\n",
       "      <td>2014-01-10</td>\n",
       "      <td>20.0</td>\n",
       "      <td>9</td>\n",
       "      <td>True</td>\n",
       "      <td>80.0</td>\n",
       "    </tr>\n",
       "    <tr>\n",
       "      <td>4</td>\n",
       "      <td>3.13</td>\n",
       "      <td>4.9</td>\n",
       "      <td>4.4</td>\n",
       "      <td>1.19</td>\n",
       "      <td>Winterfell</td>\n",
       "      <td>2014-03-15</td>\n",
       "      <td>Android</td>\n",
       "      <td>2014-01-27</td>\n",
       "      <td>11.8</td>\n",
       "      <td>14</td>\n",
       "      <td>False</td>\n",
       "      <td>82.4</td>\n",
       "    </tr>\n",
       "  </tbody>\n",
       "</table>\n",
       "</div>"
      ],
      "text/plain": [
       "   avg_dist  avg_rating_by_driver  avg_rating_of_driver  avg_surge  \\\n",
       "0      3.67                   5.0                   4.7       1.10   \n",
       "1      8.26                   5.0                   5.0       1.00   \n",
       "2      0.77                   5.0                   4.3       1.00   \n",
       "3      2.36                   4.9                   4.6       1.14   \n",
       "4      3.13                   4.9                   4.4       1.19   \n",
       "\n",
       "             city last_trip_date    phone signup_date  surge_pct  \\\n",
       "0  King's Landing     2014-06-17   iPhone  2014-01-25       15.4   \n",
       "1         Astapor     2014-05-05  Android  2014-01-29        0.0   \n",
       "2         Astapor     2014-01-07   iPhone  2014-01-06        0.0   \n",
       "3  King's Landing     2014-06-29   iPhone  2014-01-10       20.0   \n",
       "4      Winterfell     2014-03-15  Android  2014-01-27       11.8   \n",
       "\n",
       "   trips_in_first_30_days  luxury_car_user  weekday_pct  \n",
       "0                       4             True         46.2  \n",
       "1                       0            False         50.0  \n",
       "2                       3            False        100.0  \n",
       "3                       9             True         80.0  \n",
       "4                      14            False         82.4  "
      ]
     },
     "execution_count": 45,
     "metadata": {},
     "output_type": "execute_result"
    }
   ],
   "source": [
    "churn.head()"
   ]
  },
  {
   "cell_type": "code",
   "execution_count": 46,
   "metadata": {},
   "outputs": [
    {
     "name": "stdout",
     "output_type": "stream",
     "text": [
      "<class 'pandas.core.frame.DataFrame'>\n",
      "RangeIndex: 50000 entries, 0 to 49999\n",
      "Data columns (total 12 columns):\n",
      "avg_dist                  50000 non-null float64\n",
      "avg_rating_by_driver      49799 non-null float64\n",
      "avg_rating_of_driver      41878 non-null float64\n",
      "avg_surge                 50000 non-null float64\n",
      "city                      50000 non-null object\n",
      "last_trip_date            50000 non-null datetime64[ns]\n",
      "phone                     49604 non-null object\n",
      "signup_date               50000 non-null datetime64[ns]\n",
      "surge_pct                 50000 non-null float64\n",
      "trips_in_first_30_days    50000 non-null int64\n",
      "luxury_car_user           50000 non-null bool\n",
      "weekday_pct               50000 non-null float64\n",
      "dtypes: bool(1), datetime64[ns](2), float64(6), int64(1), object(2)\n",
      "memory usage: 4.2+ MB\n"
     ]
    }
   ],
   "source": [
    "churn.info()"
   ]
  },
  {
   "cell_type": "code",
   "execution_count": 47,
   "metadata": {},
   "outputs": [
    {
     "data": {
      "text/plain": [
       "avg_dist                         float64\n",
       "avg_rating_by_driver             float64\n",
       "avg_rating_of_driver             float64\n",
       "avg_surge                        float64\n",
       "city                              object\n",
       "last_trip_date            datetime64[ns]\n",
       "phone                             object\n",
       "signup_date               datetime64[ns]\n",
       "surge_pct                        float64\n",
       "trips_in_first_30_days             int64\n",
       "luxury_car_user                     bool\n",
       "weekday_pct                      float64\n",
       "dtype: object"
      ]
     },
     "execution_count": 47,
     "metadata": {},
     "output_type": "execute_result"
    }
   ],
   "source": [
    "churn.dtypes"
   ]
  },
  {
   "cell_type": "markdown",
   "metadata": {},
   "source": [
    "###  Questions"
   ]
  },
  {
   "cell_type": "code",
   "execution_count": 39,
   "metadata": {},
   "outputs": [
    {
     "data": {
      "text/plain": [
       "['avg_dist',\n",
       " 'avg_rating_by_driver',\n",
       " 'avg_rating_of_driver',\n",
       " 'avg_surge',\n",
       " 'city',\n",
       " 'last_trip_date',\n",
       " 'phone',\n",
       " 'signup_date',\n",
       " 'surge_pct',\n",
       " 'trips_in_first_30_days',\n",
       " 'luxury_car_user',\n",
       " 'weekday_pct']"
      ]
     },
     "execution_count": 39,
     "metadata": {},
     "output_type": "execute_result"
    }
   ],
   "source": [
    "churn_columns = churn.columns.tolist()\n",
    "churn_columns"
   ]
  },
  {
   "cell_type": "code",
   "execution_count": 41,
   "metadata": {},
   "outputs": [
    {
     "data": {
      "text/plain": [
       "['last_trip_date', 'signup_date']"
      ]
     },
     "execution_count": 41,
     "metadata": {},
     "output_type": "execute_result"
    }
   ],
   "source": [
    "list(filter(lambda w: 'date' in w, churn_columns))"
   ]
  },
  {
   "cell_type": "code",
   "execution_count": 42,
   "metadata": {},
   "outputs": [],
   "source": [
    "churn.last_trip_date = pd.to_datetime(churn.last_trip_date)\n",
    "churn.signup_date = pd.to_datetime(churn.signup_date)"
   ]
  },
  {
   "cell_type": "code",
   "execution_count": 43,
   "metadata": {},
   "outputs": [
    {
     "data": {
      "text/plain": [
       "0       2014-06-17\n",
       "1       2014-05-05\n",
       "2       2014-01-07\n",
       "3       2014-06-29\n",
       "4       2014-03-15\n",
       "           ...    \n",
       "49995   2014-06-05\n",
       "49996   2014-01-25\n",
       "49997   2014-05-22\n",
       "49998   2014-01-15\n",
       "49999   2014-04-20\n",
       "Name: last_trip_date, Length: 50000, dtype: datetime64[ns]"
      ]
     },
     "execution_count": 43,
     "metadata": {},
     "output_type": "execute_result"
    }
   ],
   "source": [
    "churn.last_trip_date"
   ]
  },
  {
   "cell_type": "code",
   "execution_count": 44,
   "metadata": {},
   "outputs": [
    {
     "data": {
      "text/plain": [
       "0       2014-01-25\n",
       "1       2014-01-29\n",
       "2       2014-01-06\n",
       "3       2014-01-10\n",
       "4       2014-01-27\n",
       "           ...    \n",
       "49995   2014-01-25\n",
       "49996   2014-01-24\n",
       "49997   2014-01-31\n",
       "49998   2014-01-14\n",
       "49999   2014-01-18\n",
       "Name: signup_date, Length: 50000, dtype: datetime64[ns]"
      ]
     },
     "execution_count": 44,
     "metadata": {},
     "output_type": "execute_result"
    }
   ],
   "source": [
    "churn.signup_date"
   ]
  },
  {
   "cell_type": "code",
   "execution_count": 58,
   "metadata": {},
   "outputs": [
    {
     "data": {
      "text/plain": [
       "signup_date\n",
       "2014-01-01    1737\n",
       "2014-01-02    1004\n",
       "2014-01-03    1213\n",
       "2014-01-04    1485\n",
       "2014-01-05    1343\n",
       "2014-01-06    1763\n",
       "2014-01-07    1486\n",
       "2014-01-08    1275\n",
       "2014-01-09    1433\n",
       "2014-01-10    2021\n",
       "2014-01-11    2402\n",
       "2014-01-12    1334\n",
       "2014-01-13    1049\n",
       "2014-01-14    1120\n",
       "2014-01-15    1110\n",
       "2014-01-16    1431\n",
       "2014-01-17    2149\n",
       "2014-01-18    2948\n",
       "2014-01-19    2028\n",
       "2014-01-20    1295\n",
       "2014-01-21    1234\n",
       "2014-01-22    1369\n",
       "2014-01-23    1606\n",
       "2014-01-24    2284\n",
       "2014-01-25    2885\n",
       "2014-01-26    1708\n",
       "2014-01-27    1236\n",
       "2014-01-28    1284\n",
       "2014-01-29    1197\n",
       "2014-01-30    1471\n",
       "2014-01-31    2100\n",
       "Name: avg_dist, dtype: int64"
      ]
     },
     "execution_count": 58,
     "metadata": {},
     "output_type": "execute_result"
    }
   ],
   "source": [
    "charn_group =  churn.groupby(['signup_date'])['avg_dist'].count()\n",
    "charn_group"
   ]
  },
  {
   "cell_type": "code",
   "execution_count": 53,
   "metadata": {},
   "outputs": [
    {
     "data": {
      "text/plain": [
       "DatetimeIndex(['2014-01-01', '2014-01-02', '2014-01-03', '2014-01-04',\n",
       "               '2014-01-05', '2014-01-06', '2014-01-07', '2014-01-08',\n",
       "               '2014-01-09', '2014-01-10', '2014-01-11', '2014-01-12',\n",
       "               '2014-01-13', '2014-01-14', '2014-01-15', '2014-01-16',\n",
       "               '2014-01-17', '2014-01-18', '2014-01-19', '2014-01-20',\n",
       "               '2014-01-21', '2014-01-22', '2014-01-23', '2014-01-24',\n",
       "               '2014-01-25', '2014-01-26', '2014-01-27', '2014-01-28',\n",
       "               '2014-01-29', '2014-01-30', '2014-01-31'],\n",
       "              dtype='datetime64[ns]', name='signup_date', freq=None)"
      ]
     },
     "execution_count": 53,
     "metadata": {},
     "output_type": "execute_result"
    }
   ],
   "source": [
    "charn_group.index"
   ]
  },
  {
   "cell_type": "code",
   "execution_count": 57,
   "metadata": {},
   "outputs": [
    {
     "data": {
      "text/plain": [
       "2014-01-18    2948\n",
       "2014-01-25    2885\n",
       "2014-01-11    2402\n",
       "2014-01-24    2284\n",
       "2014-01-17    2149\n",
       "2014-01-31    2100\n",
       "2014-01-19    2028\n",
       "2014-01-10    2021\n",
       "2014-01-06    1763\n",
       "2014-01-01    1737\n",
       "2014-01-26    1708\n",
       "2014-01-23    1606\n",
       "2014-01-07    1486\n",
       "2014-01-04    1485\n",
       "2014-01-30    1471\n",
       "2014-01-09    1433\n",
       "2014-01-16    1431\n",
       "2014-01-22    1369\n",
       "2014-01-05    1343\n",
       "2014-01-12    1334\n",
       "2014-01-20    1295\n",
       "2014-01-28    1284\n",
       "2014-01-08    1275\n",
       "2014-01-27    1236\n",
       "2014-01-21    1234\n",
       "2014-01-03    1213\n",
       "2014-01-29    1197\n",
       "2014-01-14    1120\n",
       "2014-01-15    1110\n",
       "2014-01-13    1049\n",
       "2014-01-02    1004\n",
       "Name: signup_date, dtype: int64"
      ]
     },
     "execution_count": 57,
     "metadata": {},
     "output_type": "execute_result"
    }
   ],
   "source": [
    "charn_counts =  churn['signup_date'].value_counts()\n",
    "charn_counts"
   ]
  },
  {
   "cell_type": "code",
   "execution_count": 59,
   "metadata": {},
   "outputs": [
    {
     "data": {
      "text/plain": [
       "2948"
      ]
     },
     "execution_count": 59,
     "metadata": {},
     "output_type": "execute_result"
    }
   ],
   "source": [
    "charn_counts.max()"
   ]
  },
  {
   "cell_type": "code",
   "execution_count": 56,
   "metadata": {},
   "outputs": [
    {
     "data": {
      "text/plain": [
       "<matplotlib.axes._subplots.AxesSubplot at 0x22cadc95088>"
      ]
     },
     "execution_count": 56,
     "metadata": {},
     "output_type": "execute_result"
    },
    {
     "data": {
      "image/png": "[encoded data removed]",
      "text/plain": [
       "<Figure size 432x288 with 1 Axes>"
      ]
     },
     "metadata": {
      "needs_background": "light"
     },
     "output_type": "display_data"
    }
   ],
   "source": [
    "charn_counts.plot()"
   ]
  },
  {
   "cell_type": "code",
   "execution_count": 63,
   "metadata": {},
   "outputs": [
    {
     "data": {
      "text/plain": [
       "2014-01-18    2948\n",
       "2014-01-25    2885\n",
       "2014-01-11    2402\n",
       "2014-01-24    2284\n",
       "2014-01-17    2149\n",
       "Name: signup_date, dtype: int64"
      ]
     },
     "execution_count": 63,
     "metadata": {},
     "output_type": "execute_result"
    }
   ],
   "source": [
    "charn_counts.nlargest(5)"
   ]
  }
 ],
 "metadata": {
  "kernelspec": {
   "display_name": "Python 3",
   "language": "python",
   "name": "python3"
  },
  "language_info": {
   "codemirror_mode": {
    "name": "ipython",
    "version": 3
   },
   "file_extension": ".py",
   "mimetype": "text/x-python",
   "name": "python",
   "nbconvert_exporter": "python",
   "pygments_lexer": "ipython3",
   "version": "3.7.4"
  }
 },
 "nbformat": 4,
 "nbformat_minor": 2
}
