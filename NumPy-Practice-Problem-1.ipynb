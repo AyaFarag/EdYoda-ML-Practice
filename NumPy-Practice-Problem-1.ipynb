{
 "cells": [
  {
   "cell_type": "markdown",
   "metadata": {},
   "source": [
    "### NumPy : Practice Problems 1"
   ]
  },
  {
   "cell_type": "code",
   "execution_count": 1,
   "metadata": {},
   "outputs": [],
   "source": [
    "import numpy as np"
   ]
  },
  {
   "cell_type": "code",
   "execution_count": 2,
   "metadata": {},
   "outputs": [
    {
     "name": "stdout",
     "output_type": "stream",
     "text": [
      "1.16.5\n",
      "<module 'numpy.__config__' from 'C:\\\\ProgramData\\\\Anaconda3\\\\lib\\\\site-packages\\\\numpy\\\\__config__.py'>\n"
     ]
    }
   ],
   "source": [
    "#1.Write a NumPy program to get the numpy version and show numpy build configuration\n",
    "print(np.version.version)\n",
    "print(np.__config__)"
   ]
  },
  {
   "cell_type": "code",
   "execution_count": null,
   "metadata": {},
   "outputs": [],
   "source": [
    "#2.Create a null vector of size 10 but the fifth value which is 1\n",
    "n = np.zeros(10)\n",
    "n[4] = 1\n",
    "print(n)"
   ]
  },
  {
   "cell_type": "code",
   "execution_count": 5,
   "metadata": {},
   "outputs": [
    {
     "name": "stdout",
     "output_type": "stream",
     "text": [
      "[10 11 12 13 14 15 16 17 18 19 20 21 22 23 24 25 26 27 28 29 30 31 32 33\n",
      " 34 35 36 37 38 39 40 41 42 43 44 45 46 47 48 49]\n"
     ]
    }
   ],
   "source": [
    "#2-.Create a vector with values ranging from 10 to 49\n",
    "n = np.arange(10,50)\n",
    "print(n)"
   ]
  },
  {
   "cell_type": "code",
   "execution_count": 14,
   "metadata": {},
   "outputs": [
    {
     "data": {
      "text/plain": [
       "array([[1, 1, 2],\n",
       "       [3, 2, 1],\n",
       "       [2, 2, 3],\n",
       "       [6, 7, 6],\n",
       "       [7, 7, 6],\n",
       "       [6, 7, 8]])"
      ]
     },
     "execution_count": 14,
     "metadata": {},
     "output_type": "execute_result"
    }
   ],
   "source": [
    "#3.create two arrays and stack them vertically\n",
    "a1 = np.random.randint(1,5,(3,3))\n",
    "a2 = np.random.randint(6,10,(3,3))\n",
    "np.vstack([a1,a2])\n"
   ]
  },
  {
   "cell_type": "code",
   "execution_count": 22,
   "metadata": {},
   "outputs": [
    {
     "data": {
      "text/plain": [
       "array([70, 25, 10,  1])"
      ]
     },
     "execution_count": 22,
     "metadata": {},
     "output_type": "execute_result"
    }
   ],
   "source": [
    "#4.Reverse a vector (first element becomes last)\n",
    "a1 = np.array([1,10,25,70])\n",
    "a1[::-1]"
   ]
  },
  {
   "cell_type": "code",
   "execution_count": 23,
   "metadata": {},
   "outputs": [
    {
     "data": {
      "text/plain": [
       "array([[2, 5, 2],\n",
       "       [8, 6, 7],\n",
       "       [3, 7, 0]])"
      ]
     },
     "execution_count": 23,
     "metadata": {},
     "output_type": "execute_result"
    }
   ],
   "source": [
    "#5.Create a 3x3 matrix with values ranging from 0 to 8\n",
    "np.random.randint(0,9,(3,3))"
   ]
  },
  {
   "cell_type": "code",
   "execution_count": 25,
   "metadata": {},
   "outputs": [
    {
     "data": {
      "text/plain": [
       "(array([0, 1, 4], dtype=int64),)"
      ]
     },
     "execution_count": 25,
     "metadata": {},
     "output_type": "execute_result"
    }
   ],
   "source": [
    "#6.Find indices of non-zero elements from [1,2,0,0,4,0]\n",
    "a = [1,2,0,0,4,0]\n",
    "np.nonzero(a)\n"
   ]
  },
  {
   "cell_type": "code",
   "execution_count": 30,
   "metadata": {},
   "outputs": [
    {
     "name": "stdout",
     "output_type": "stream",
     "text": [
      "0\n",
      "97\n"
     ]
    }
   ],
   "source": [
    "#7.Create a 10x10 array with random values and find the minimum and maximum values\n",
    "x = np.random.randint(0,100,(10,10))\n",
    "print(x.min())\n",
    "print(x.max())\n"
   ]
  },
  {
   "cell_type": "code",
   "execution_count": 38,
   "metadata": {},
   "outputs": [
    {
     "name": "stdout",
     "output_type": "stream",
     "text": [
      "50.03333333333333\n"
     ]
    }
   ],
   "source": [
    "#8. Create a random vector of size 30 and find the mean value\n",
    "y = np.random.randint(0,100,(30))\n",
    "print(y.mean())"
   ]
  },
  {
   "cell_type": "code",
   "execution_count": 39,
   "metadata": {},
   "outputs": [
    {
     "name": "stdout",
     "output_type": "stream",
     "text": [
      "[[1. 1. 1. 1. 1. 1. 1. 1. 1. 1.]\n",
      " [1. 0. 0. 0. 0. 0. 0. 0. 0. 1.]\n",
      " [1. 0. 0. 0. 0. 0. 0. 0. 0. 1.]\n",
      " [1. 0. 0. 0. 0. 0. 0. 0. 0. 1.]\n",
      " [1. 0. 0. 0. 0. 0. 0. 0. 0. 1.]\n",
      " [1. 0. 0. 0. 0. 0. 0. 0. 0. 1.]\n",
      " [1. 0. 0. 0. 0. 0. 0. 0. 0. 1.]\n",
      " [1. 0. 0. 0. 0. 0. 0. 0. 0. 1.]\n",
      " [1. 0. 0. 0. 0. 0. 0. 0. 0. 1.]\n",
      " [1. 1. 1. 1. 1. 1. 1. 1. 1. 1.]]\n"
     ]
    }
   ],
   "source": [
    "#9.Create a 2d array with 1 on the border and 0 inside\n",
    "x = np.ones((10,10))\n",
    "x[1:-1,1:-1] = 0\n",
    "print(x)"
   ]
  },
  {
   "cell_type": "code",
   "execution_count": 49,
   "metadata": {},
   "outputs": [
    {
     "name": "stdout",
     "output_type": "stream",
     "text": [
      "[[0. 0. 0. 0. 0. 0. 0. 0. 0. 0.]\n",
      " [0. 4. 4. 4. 4. 4. 4. 4. 4. 0.]\n",
      " [0. 4. 4. 4. 4. 4. 4. 4. 4. 0.]\n",
      " [0. 4. 4. 4. 4. 4. 4. 4. 4. 0.]\n",
      " [0. 4. 4. 4. 4. 4. 4. 4. 4. 0.]\n",
      " [0. 4. 4. 4. 4. 4. 4. 4. 4. 0.]\n",
      " [0. 4. 4. 4. 4. 4. 4. 4. 4. 0.]\n",
      " [0. 4. 4. 4. 4. 4. 4. 4. 4. 0.]\n",
      " [0. 4. 4. 4. 4. 4. 4. 4. 4. 0.]\n",
      " [0. 0. 0. 0. 0. 0. 0. 0. 0. 0.]]\n"
     ]
    }
   ],
   "source": [
    "#10.How to add a border (filled with 0's) around an existing array\n",
    "y = np.random.randint(1,10)\n",
    "z = np.zeros((10,10))\n",
    "z[1:-1,1:-1] = y\n",
    "print(z)"
   ]
  },
  {
   "cell_type": "code",
   "execution_count": 50,
   "metadata": {},
   "outputs": [
    {
     "name": "stdout",
     "output_type": "stream",
     "text": [
      "[[0. 0. 0. 0. 0.]\n",
      " [1. 0. 0. 0. 0.]\n",
      " [0. 2. 0. 0. 0.]\n",
      " [0. 0. 3. 0. 0.]\n",
      " [0. 0. 0. 4. 0.]]\n"
     ]
    }
   ],
   "source": [
    "#11. Create a 5x5 matrix with values 1,2,3,4 just below the diagonal\n",
    "y = np.zeros((5,5))\n",
    "y[1:2,:1]=1\n",
    "y[2:3,1:2]=2\n",
    "y[3:4,2:3]=3\n",
    "y[4:5,3:4]=4\n",
    "print(y)"
   ]
  },
  {
   "cell_type": "code",
   "execution_count": null,
   "metadata": {},
   "outputs": [],
   "source": [
    "#12.Create a 5*5 matrix with random values and normalize it\n"
   ]
  }
 ],
 "metadata": {
  "kernelspec": {
   "display_name": "Python 3",
   "language": "python",
   "name": "python3"
  },
  "language_info": {
   "codemirror_mode": {
    "name": "ipython",
    "version": 3
   },
   "file_extension": ".py",
   "mimetype": "text/x-python",
   "name": "python",
   "nbconvert_exporter": "python",
   "pygments_lexer": "ipython3",
   "version": "3.7.4"
  }
 },
 "nbformat": 4,
 "nbformat_minor": 2
}
